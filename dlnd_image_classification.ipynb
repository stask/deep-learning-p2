{
 "cells": [
  {
   "cell_type": "markdown",
   "metadata": {
    "collapsed": true,
    "deletable": true,
    "editable": true
   },
   "source": [
    "# Image Classification\n",
    "In this project, you'll classify images from the [CIFAR-10 dataset](https://www.cs.toronto.edu/~kriz/cifar.html).  The dataset consists of airplanes, dogs, cats, and other objects. You'll preprocess the images, then train a convolutional neural network on all the samples. The images need to be normalized and the labels need to be one-hot encoded.  You'll get to apply what you learned and build a convolutional, max pooling, dropout, and fully connected layers.  At the end, you'll get to see your neural network's predictions on the sample images.\n",
    "## Get the Data\n",
    "Run the following cell to download the [CIFAR-10 dataset for python](https://www.cs.toronto.edu/~kriz/cifar-10-python.tar.gz)."
   ]
  },
  {
   "cell_type": "code",
   "execution_count": 131,
   "metadata": {
    "collapsed": false,
    "deletable": true,
    "editable": true
   },
   "outputs": [
    {
     "name": "stdout",
     "output_type": "stream",
     "text": [
      "All files found!\n"
     ]
    }
   ],
   "source": [
    "\"\"\"\n",
    "DON'T MODIFY ANYTHING IN THIS CELL THAT IS BELOW THIS LINE\n",
    "\"\"\"\n",
    "from urllib.request import urlretrieve\n",
    "from os.path import isfile, isdir\n",
    "from tqdm import tqdm\n",
    "import problem_unittests as tests\n",
    "import tarfile\n",
    "\n",
    "cifar10_dataset_folder_path = 'cifar-10-batches-py'\n",
    "\n",
    "class DLProgress(tqdm):\n",
    "    last_block = 0\n",
    "\n",
    "    def hook(self, block_num=1, block_size=1, total_size=None):\n",
    "        self.total = total_size\n",
    "        self.update((block_num - self.last_block) * block_size)\n",
    "        self.last_block = block_num\n",
    "\n",
    "if not isfile('cifar-10-python.tar.gz'):\n",
    "    with DLProgress(unit='B', unit_scale=True, miniters=1, desc='CIFAR-10 Dataset') as pbar:\n",
    "        urlretrieve(\n",
    "            'https://www.cs.toronto.edu/~kriz/cifar-10-python.tar.gz',\n",
    "            'cifar-10-python.tar.gz',\n",
    "            pbar.hook)\n",
    "\n",
    "if not isdir(cifar10_dataset_folder_path):\n",
    "    with tarfile.open('cifar-10-python.tar.gz') as tar:\n",
    "        tar.extractall()\n",
    "        tar.close()\n",
    "\n",
    "\n",
    "tests.test_folder_path(cifar10_dataset_folder_path)"
   ]
  },
  {
   "cell_type": "markdown",
   "metadata": {
    "deletable": true,
    "editable": true
   },
   "source": [
    "## Explore the Data\n",
    "The dataset is broken into batches to prevent your machine from running out of memory.  The CIFAR-10 dataset consists of 5 batches, named `data_batch_1`, `data_batch_2`, etc.. Each batch contains the labels and images that are one of the following:\n",
    "* airplane\n",
    "* automobile\n",
    "* bird\n",
    "* cat\n",
    "* deer\n",
    "* dog\n",
    "* frog\n",
    "* horse\n",
    "* ship\n",
    "* truck\n",
    "\n",
    "Understanding a dataset is part of making predictions on the data.  Play around with the code cell below by changing the `batch_id` and `sample_id`. The `batch_id` is the id for a batch (1-5). The `sample_id` is the id for a image and label pair in the batch.\n",
    "\n",
    "Ask yourself \"What are all possible labels?\", \"What is the range of values for the image data?\", \"Are the labels in order or random?\".  Answers to questions like these will help you preprocess the data and end up with better predictions."
   ]
  },
  {
   "cell_type": "code",
   "execution_count": 132,
   "metadata": {
    "collapsed": false,
    "deletable": true,
    "editable": true
   },
   "outputs": [
    {
     "name": "stdout",
     "output_type": "stream",
     "text": [
      "\n",
      "Stats of batch 1:\n",
      "Samples: 10000\n",
      "Label Counts: {0: 1005, 1: 974, 2: 1032, 3: 1016, 4: 999, 5: 937, 6: 1030, 7: 1001, 8: 1025, 9: 981}\n",
      "First 20 Labels: [6, 9, 9, 4, 1, 1, 2, 7, 8, 3, 4, 7, 7, 2, 9, 9, 9, 3, 2, 6]\n",
      "\n",
      "Example of Image 5:\n",
      "Image - Min Value: 0 Max Value: 252\n",
      "Image - Shape: (32, 32, 3)\n",
      "Label - Label Id: 1 Name: automobile\n"
     ]
    },
    {
     "data": {
      "image/png": "[encoded data removed]",
      "text/plain": [
       "<matplotlib.figure.Figure at 0x7ff100687eb8>"
      ]
     },
     "metadata": {
      "image/png": {
       "height": 250,
       "width": 253
      }
     },
     "output_type": "display_data"
    }
   ],
   "source": [
    "%matplotlib inline\n",
    "%config InlineBackend.figure_format = 'retina'\n",
    "\n",
    "import helper\n",
    "import numpy as np\n",
    "\n",
    "# Explore the dataset\n",
    "batch_id = 1\n",
    "sample_id = 5\n",
    "helper.display_stats(cifar10_dataset_folder_path, batch_id, sample_id)"
   ]
  },
  {
   "cell_type": "markdown",
   "metadata": {
    "deletable": true,
    "editable": true
   },
   "source": [
    "## Implement Preprocess Functions\n",
    "### Normalize\n",
    "In the cell below, implement the `normalize` function to take in image data, `x`, and return it as a normalized Numpy array. The values should be in the range of 0 to 1, inclusive.  The return object should be the same shape as `x`."
   ]
  },
  {
   "cell_type": "code",
   "execution_count": null,
   "metadata": {
    "collapsed": false,
    "deletable": true,
    "editable": true
   },
   "outputs": [],
   "source": [
    "x = np.random.randint(0, 255, (32, 32,3), np.int64)\n",
    "y = np.multiply(x, (255.0/x.max())) - x\n",
    "#y = x.astype(np.float64)\n",
    "#y = np.multiply(y, (255.0/y.max())) - y\n",
    "print(x, y)"
   ]
  },
  {
   "cell_type": "code",
   "execution_count": 133,
   "metadata": {
    "collapsed": false,
    "deletable": true,
    "editable": true
   },
   "outputs": [
    {
     "name": "stdout",
     "output_type": "stream",
     "text": [
      "Tests Passed\n"
     ]
    }
   ],
   "source": [
    "def normalize(x):\n",
    "    \"\"\"\n",
    "    Normalize a list of sample image data in the range of 0 to 1\n",
    "    : x: List of image data.  The image shape is (32, 32, 3)\n",
    "    : return: Numpy array of normalize data\n",
    "    \"\"\"\n",
    "    \n",
    "    # well, i don't understand why i should subtract x from the\n",
    "    # product of np.muptiply, but without it, the result\n",
    "    # is for some reason (x + scaled_matrix)\n",
    "    return x / 255\n",
    "\n",
    "\n",
    "\"\"\"\n",
    "DON'T MODIFY ANYTHING IN THIS CELL THAT IS BELOW THIS LINE\n",
    "\"\"\"\n",
    "tests.test_normalize(normalize)"
   ]
  },
  {
   "cell_type": "markdown",
   "metadata": {
    "deletable": true,
    "editable": true
   },
   "source": [
    "### One-hot encode\n",
    "Just like the previous code cell, you'll be implementing a function for preprocessing.  This time, you'll implement the `one_hot_encode` function. The input, `x`, are a list of labels.  Implement the function to return the list of labels as One-Hot encoded Numpy array.  The possible values for labels are 0 to 9. The one-hot encoding function should return the same encoding for each value between each call to `one_hot_encode`.  Make sure to save the map of encodings outside the function.\n",
    "\n",
    "Hint: Don't reinvent the wheel."
   ]
  },
  {
   "cell_type": "code",
   "execution_count": 134,
   "metadata": {
    "collapsed": false,
    "deletable": true,
    "editable": true
   },
   "outputs": [
    {
     "data": {
      "text/plain": [
       "array([[0, 0, 1, 0, 0],\n",
       "       [0, 1, 0, 0, 0],\n",
       "       [1, 0, 0, 0, 0],\n",
       "       [0, 0, 0, 1, 0],\n",
       "       [0, 0, 0, 0, 1]])"
      ]
     },
     "execution_count": 134,
     "metadata": {},
     "output_type": "execute_result"
    }
   ],
   "source": [
    "def test_one_hot_encode_label(x):\n",
    "    oh = np.zeros(10)\n",
    "    np.put(oh, x, 1)\n",
    "    return oh\n",
    "\n",
    "def test_one_hot_encode(x):\n",
    "    return np.array(list(map(test_one_hot_encode_label, x)))\n",
    "    \n",
    "test_one_hot_encode([2, 1])\n",
    "\n",
    "# well, i could use this too\n",
    "from sklearn import preprocessing\n",
    "lb = preprocessing.LabelBinarizer()\n",
    "lb.fit([2,1,0,4,8])\n",
    "lb.transform([2,1,0,4,8])"
   ]
  },
  {
   "cell_type": "code",
   "execution_count": 135,
   "metadata": {
    "collapsed": false,
    "deletable": true,
    "editable": true
   },
   "outputs": [
    {
     "name": "stdout",
     "output_type": "stream",
     "text": [
      "Tests Passed\n"
     ]
    }
   ],
   "source": [
    "def one_hot_encode(x):\n",
    "    \"\"\"\n",
    "    One hot encode a list of sample labels. Return a one-hot encoded vector for each label.\n",
    "    : x: List of sample Labels\n",
    "    : return: Numpy array of one-hot encoded labels\n",
    "    \"\"\"\n",
    "    def encode_label(label):\n",
    "        encoded = np.zeros(10)\n",
    "        np.put(encoded, label, 1)\n",
    "        return encoded\n",
    "    return np.array(list(map(encode_label, x)))\n",
    "\n",
    "\"\"\"\n",
    "DON'T MODIFY ANYTHING IN THIS CELL THAT IS BELOW THIS LINE\n",
    "\"\"\"\n",
    "tests.test_one_hot_encode(one_hot_encode)"
   ]
  },
  {
   "cell_type": "markdown",
   "metadata": {
    "deletable": true,
    "editable": true
   },
   "source": [
    "### Randomize Data\n",
    "As you saw from exploring the data above, the order of the samples are randomized.  It doesn't hurt to randomize it again, but you don't need to for this dataset."
   ]
  },
  {
   "cell_type": "markdown",
   "metadata": {
    "deletable": true,
    "editable": true
   },
   "source": [
    "## Preprocess all the data and save it\n",
    "Running the code cell below will preprocess all the CIFAR-10 data and save it to file. The code below also uses 10% of the training data for validation."
   ]
  },
  {
   "cell_type": "code",
   "execution_count": 136,
   "metadata": {
    "collapsed": false,
    "deletable": true,
    "editable": true
   },
   "outputs": [],
   "source": [
    "\"\"\"\n",
    "DON'T MODIFY ANYTHING IN THIS CELL\n",
    "\"\"\"\n",
    "# Preprocess Training, Validation, and Testing Data\n",
    "helper.preprocess_and_save_data(cifar10_dataset_folder_path, normalize, one_hot_encode)"
   ]
  },
  {
   "cell_type": "markdown",
   "metadata": {
    "deletable": true,
    "editable": true
   },
   "source": [
    "# Check Point\n",
    "This is your first checkpoint.  If you ever decide to come back to this notebook or have to restart the notebook, you can start from here.  The preprocessed data has been saved to disk."
   ]
  },
  {
   "cell_type": "code",
   "execution_count": 1,
   "metadata": {
    "collapsed": true,
    "deletable": true,
    "editable": true
   },
   "outputs": [],
   "source": [
    "\"\"\"\n",
    "DON'T MODIFY ANYTHING IN THIS CELL\n",
    "\"\"\"\n",
    "import pickle\n",
    "import problem_unittests as tests\n",
    "import helper\n",
    "\n",
    "# Load the Preprocessed Validation data\n",
    "valid_features, valid_labels = pickle.load(open('preprocess_validation.p', mode='rb'))"
   ]
  },
  {
   "cell_type": "markdown",
   "metadata": {
    "deletable": true,
    "editable": true
   },
   "source": [
    "## Build the network\n",
    "For the neural network, you'll build each layer into a function.  Most of the code you've seen has been outside of functions. To test your code more thoroughly, we require that you put each layer in a function.  This allows us to give you better feedback and test for simple mistakes using our unittests before you submit your project.\n",
    "\n",
    ">**Note:** If you're finding it hard to dedicate enough time for this course each week, we've provided a small shortcut to this part of the project. In the next couple of problems, you'll have the option to use classes from the [TensorFlow Layers](https://www.tensorflow.org/api_docs/python/tf/layers) or [TensorFlow Layers (contrib)](https://www.tensorflow.org/api_guides/python/contrib.layers) packages to build each layer, except the layers you build in the \"Convolutional and Max Pooling Layer\" section.  TF Layers is similar to Keras's and TFLearn's abstraction to layers, so it's easy to pickup.\n",
    "\n",
    ">However, if you would like to get the most out of this course, try to solve all the problems _without_ using anything from the TF Layers packages. You **can** still use classes from other packages that happen to have the same name as ones you find in TF Layers! For example, instead of using the TF Layers version of the `conv2d` class, [tf.layers.conv2d](https://www.tensorflow.org/api_docs/python/tf/layers/conv2d), you would want to use the TF Neural Network version of `conv2d`, [tf.nn.conv2d](https://www.tensorflow.org/api_docs/python/tf/nn/conv2d). \n",
    "\n",
    "Let's begin!\n",
    "\n",
    "### Input\n",
    "The neural network needs to read the image data, one-hot encoded labels, and dropout keep probability. Implement the following functions\n",
    "* Implement `neural_net_image_input`\n",
    " * Return a [TF Placeholder](https://www.tensorflow.org/api_docs/python/tf/placeholder)\n",
    " * Set the shape using `image_shape` with batch size set to `None`.\n",
    " * Name the TensorFlow placeholder \"x\" using the TensorFlow `name` parameter in the [TF Placeholder](https://www.tensorflow.org/api_docs/python/tf/placeholder).\n",
    "* Implement `neural_net_label_input`\n",
    " * Return a [TF Placeholder](https://www.tensorflow.org/api_docs/python/tf/placeholder)\n",
    " * Set the shape using `n_classes` with batch size set to `None`.\n",
    " * Name the TensorFlow placeholder \"y\" using the TensorFlow `name` parameter in the [TF Placeholder](https://www.tensorflow.org/api_docs/python/tf/placeholder).\n",
    "* Implement `neural_net_keep_prob_input`\n",
    " * Return a [TF Placeholder](https://www.tensorflow.org/api_docs/python/tf/placeholder) for dropout keep probability.\n",
    " * Name the TensorFlow placeholder \"keep_prob\" using the TensorFlow `name` parameter in the [TF Placeholder](https://www.tensorflow.org/api_docs/python/tf/placeholder).\n",
    "\n",
    "These names will be used at the end of the project to load your saved model.\n",
    "\n",
    "Note: `None` for shapes in TensorFlow allow for a dynamic size."
   ]
  },
  {
   "cell_type": "code",
   "execution_count": 2,
   "metadata": {
    "collapsed": false,
    "deletable": true,
    "editable": true
   },
   "outputs": [
    {
     "name": "stdout",
     "output_type": "stream",
     "text": [
      "Image Input Tests Passed.\n",
      "Label Input Tests Passed.\n",
      "Keep Prob Tests Passed.\n"
     ]
    }
   ],
   "source": [
    "import tensorflow as tf\n",
    "\n",
    "def neural_net_image_input(image_shape):\n",
    "    \"\"\"\n",
    "    Return a Tensor for a bach of image input\n",
    "    : image_shape: Shape of the images\n",
    "    : return: Tensor for image input.\n",
    "    \"\"\"\n",
    "    # TODO: Implement Function\n",
    "    return tf.placeholder(tf.float32, shape=[None, image_shape[0], image_shape[1], image_shape[2]], name=\"x\")\n",
    "\n",
    "\n",
    "def neural_net_label_input(n_classes):\n",
    "    \"\"\"\n",
    "    Return a Tensor for a batch of label input\n",
    "    : n_classes: Number of classes\n",
    "    : return: Tensor for label input.\n",
    "    \"\"\"\n",
    "    # TODO: Implement Function\n",
    "    return tf.placeholder(tf.float32, shape=[None, n_classes], name=\"y\")\n",
    "\n",
    "\n",
    "def neural_net_keep_prob_input():\n",
    "    \"\"\"\n",
    "    Return a Tensor for keep probability\n",
    "    : return: Tensor for keep probability.\n",
    "    \"\"\"\n",
    "    # TODO: Implement Function\n",
    "    return tf.placeholder(tf.float32, name=\"keep_prob\")\n",
    "\n",
    "\n",
    "\"\"\"\n",
    "DON'T MODIFY ANYTHING IN THIS CELL THAT IS BELOW THIS LINE\n",
    "\"\"\"\n",
    "tf.reset_default_graph()\n",
    "tests.test_nn_image_inputs(neural_net_image_input)\n",
    "tests.test_nn_label_inputs(neural_net_label_input)\n",
    "tests.test_nn_keep_prob_inputs(neural_net_keep_prob_input)"
   ]
  },
  {
   "cell_type": "markdown",
   "metadata": {
    "deletable": true,
    "editable": true
   },
   "source": [
    "### Convolution and Max Pooling Layer\n",
    "Convolution layers have a lot of success with images. For this code cell, you should implement the function `conv2d_maxpool` to apply convolution then max pooling:\n",
    "* Create the weight and bias using `conv_ksize`, `conv_num_outputs` and the shape of `x_tensor`.\n",
    "* Apply a convolution to `x_tensor` using weight and `conv_strides`.\n",
    " * We recommend you use same padding, but you're welcome to use any padding.\n",
    "* Add bias\n",
    "* Add a nonlinear activation to the convolution.\n",
    "* Apply Max Pooling using `pool_ksize` and `pool_strides`.\n",
    " * We recommend you use same padding, but you're welcome to use any padding.\n",
    "\n",
    "**Note:** You **can't** use [TensorFlow Layers](https://www.tensorflow.org/api_docs/python/tf/layers) or [TensorFlow Layers (contrib)](https://www.tensorflow.org/api_guides/python/contrib.layers) for **this** layer, but you can still use TensorFlow's [Neural Network](https://www.tensorflow.org/api_docs/python/tf/nn) package. You may still use the shortcut option for all the **other** layers."
   ]
  },
  {
   "cell_type": "code",
   "execution_count": 3,
   "metadata": {
    "collapsed": false,
    "deletable": true,
    "editable": true
   },
   "outputs": [
    {
     "name": "stdout",
     "output_type": "stream",
     "text": [
      "Tests Passed\n"
     ]
    }
   ],
   "source": [
    "def conv2d_maxpool(x_tensor, conv_num_outputs, conv_ksize, conv_strides, pool_ksize, pool_strides):\n",
    "    \"\"\"\n",
    "    Apply convolution then max pooling to x_tensor\n",
    "    :param x_tensor: TensorFlow Tensor\n",
    "    :param conv_num_outputs: Number of outputs for the convolutional layer\n",
    "    :param conv_ksize: kernal size 2-D Tuple for the convolutional layer\n",
    "    :param conv_strides: Stride 2-D Tuple for convolution\n",
    "    :param pool_ksize: kernal size 2-D Tuple for pool\n",
    "    :param pool_strides: Stride 2-D Tuple for pool\n",
    "    : return: A tensor that represents convolution and max pooling of x_tensor\n",
    "    \"\"\"\n",
    "    # TODO: Implement Function\n",
    "    color_depth = x_tensor.shape.as_list()[3]\n",
    "    weight = tf.Variable(\n",
    "        tf.truncated_normal(\n",
    "            [conv_ksize[0],\n",
    "             conv_ksize[1],\n",
    "             color_depth,\n",
    "             conv_num_outputs],\n",
    "            stddev=0.05,\n",
    "            mean=0\n",
    "        )\n",
    "    )\n",
    "    bias = tf.Variable(tf.zeros(conv_num_outputs))\n",
    "    \n",
    "    conv_layer = tf.nn.conv2d(\n",
    "        x_tensor,\n",
    "        weight,\n",
    "        strides=[1, conv_strides[0], conv_strides[1], 1],\n",
    "        padding='SAME'\n",
    "    )\n",
    "    conv_layer = tf.nn.bias_add(conv_layer, bias)\n",
    "    conv_layer = tf.nn.relu(conv_layer)\n",
    "    conv_layer = tf.nn.max_pool(\n",
    "        conv_layer,\n",
    "        ksize=[1, pool_ksize[0], pool_ksize[1], 1],\n",
    "        strides = [1, pool_strides[0], pool_strides[1], 1],\n",
    "        padding=\"SAME\"\n",
    "    )\n",
    "    return conv_layer\n",
    "\n",
    "\n",
    "\"\"\"\n",
    "DON'T MODIFY ANYTHING IN THIS CELL THAT IS BELOW THIS LINE\n",
    "\"\"\"\n",
    "tests.test_con_pool(conv2d_maxpool)"
   ]
  },
  {
   "cell_type": "markdown",
   "metadata": {
    "deletable": true,
    "editable": true
   },
   "source": [
    "### Flatten Layer\n",
    "Implement the `flatten` function to change the dimension of `x_tensor` from a 4-D tensor to a 2-D tensor.  The output should be the shape (*Batch Size*, *Flattened Image Size*). Shortcut option: you can use classes from the [TensorFlow Layers](https://www.tensorflow.org/api_docs/python/tf/layers) or [TensorFlow Layers (contrib)](https://www.tensorflow.org/api_guides/python/contrib.layers) packages for this layer. For more of a challenge, only use other TensorFlow packages."
   ]
  },
  {
   "cell_type": "code",
   "execution_count": 4,
   "metadata": {
    "collapsed": false,
    "deletable": true,
    "editable": true
   },
   "outputs": [
    {
     "name": "stdout",
     "output_type": "stream",
     "text": [
      "Tests Passed\n"
     ]
    }
   ],
   "source": [
    "def flatten(x_tensor):\n",
    "    \"\"\"\n",
    "    Flatten x_tensor to (Batch Size, Flattened Image Size)\n",
    "    : x_tensor: A tensor of size (Batch Size, ...), where ... are the image dimensions.\n",
    "    : return: A tensor of size (Batch Size, Flattened Image Size).\n",
    "    \"\"\"\n",
    "    # TODO: Implement Function\n",
    "    shape = x_tensor.shape.as_list()\n",
    "    x_tensor = tf.reshape(x_tensor, [-1, shape[1] * shape[2] * shape[3]])\n",
    "    \n",
    "    return x_tensor\n",
    "\n",
    "\n",
    "\"\"\"\n",
    "DON'T MODIFY ANYTHING IN THIS CELL THAT IS BELOW THIS LINE\n",
    "\"\"\"\n",
    "tests.test_flatten(flatten)"
   ]
  },
  {
   "cell_type": "markdown",
   "metadata": {
    "deletable": true,
    "editable": true
   },
   "source": [
    "### Fully-Connected Layer\n",
    "Implement the `fully_conn` function to apply a fully connected layer to `x_tensor` with the shape (*Batch Size*, *num_outputs*). Shortcut option: you can use classes from the [TensorFlow Layers](https://www.tensorflow.org/api_docs/python/tf/layers) or [TensorFlow Layers (contrib)](https://www.tensorflow.org/api_guides/python/contrib.layers) packages for this layer. For more of a challenge, only use other TensorFlow packages."
   ]
  },
  {
   "cell_type": "code",
   "execution_count": 5,
   "metadata": {
    "collapsed": false,
    "deletable": true,
    "editable": true
   },
   "outputs": [
    {
     "name": "stdout",
     "output_type": "stream",
     "text": [
      "Tests Passed\n"
     ]
    }
   ],
   "source": [
    "def fully_conn(x_tensor, num_outputs):\n",
    "    \"\"\"\n",
    "    Apply a fully connected layer to x_tensor using weight and bias\n",
    "    : x_tensor: A 2-D tensor where the first dimension is batch size.\n",
    "    : num_outputs: The number of output that the new tensor should be.\n",
    "    : return: A 2-D tensor where the second dimension is num_outputs.\n",
    "    \"\"\"\n",
    "    # TODO: Implement Function\n",
    "    weights = tf.Variable(\n",
    "        tf.truncated_normal(\n",
    "            [x_tensor.shape.as_list()[1], num_outputs],\n",
    "            stddev=0.05,\n",
    "            mean=0\n",
    "        )\n",
    "    )\n",
    "    bias = tf.Variable(tf.zeros(num_outputs))\n",
    "    fully_connected = tf.add(tf.matmul(x_tensor, weights), bias)\n",
    "    fully_connected = tf.nn.relu(fully_connected)\n",
    "    return fully_connected\n",
    "\n",
    "\n",
    "\"\"\"\n",
    "DON'T MODIFY ANYTHING IN THIS CELL THAT IS BELOW THIS LINE\n",
    "\"\"\"\n",
    "tests.test_fully_conn(fully_conn)"
   ]
  },
  {
   "cell_type": "markdown",
   "metadata": {
    "deletable": true,
    "editable": true
   },
   "source": [
    "### Output Layer\n",
    "Implement the `output` function to apply a fully connected layer to `x_tensor` with the shape (*Batch Size*, *num_outputs*). Shortcut option: you can use classes from the [TensorFlow Layers](https://www.tensorflow.org/api_docs/python/tf/layers) or [TensorFlow Layers (contrib)](https://www.tensorflow.org/api_guides/python/contrib.layers) packages for this layer. For more of a challenge, only use other TensorFlow packages.\n",
    "\n",
    "**Note:** Activation, softmax, or cross entropy should **not** be applied to this."
   ]
  },
  {
   "cell_type": "code",
   "execution_count": 6,
   "metadata": {
    "collapsed": false,
    "deletable": true,
    "editable": true
   },
   "outputs": [
    {
     "name": "stdout",
     "output_type": "stream",
     "text": [
      "Tests Passed\n"
     ]
    }
   ],
   "source": [
    "def output(x_tensor, num_outputs):\n",
    "    \"\"\"\n",
    "    Apply a output layer to x_tensor using weight and bias\n",
    "    : x_tensor: A 2-D tensor where the first dimension is batch size.\n",
    "    : num_outputs: The number of output that the new tensor should be.\n",
    "    : return: A 2-D tensor where the second dimension is num_outputs.\n",
    "    \"\"\"\n",
    "    # TODO: Implement Function\n",
    "    weights = tf.Variable(\n",
    "        tf.truncated_normal(\n",
    "            [x_tensor.shape.as_list()[1], num_outputs],\n",
    "            stddev=0.05,\n",
    "            mean=0\n",
    "        )\n",
    "    )\n",
    "    bias = tf.Variable(tf.zeros(num_outputs))\n",
    "    return tf.add(tf.matmul(x_tensor, weights), bias)\n",
    "\n",
    "\n",
    "\"\"\"\n",
    "DON'T MODIFY ANYTHING IN THIS CELL THAT IS BELOW THIS LINE\n",
    "\"\"\"\n",
    "tests.test_output(output)"
   ]
  },
  {
   "cell_type": "markdown",
   "metadata": {
    "deletable": true,
    "editable": true
   },
   "source": [
    "### Create Convolutional Model\n",
    "Implement the function `conv_net` to create a convolutional neural network model. The function takes in a batch of images, `x`, and outputs logits.  Use the layers you created above to create this model:\n",
    "\n",
    "* Apply 1, 2, or 3 Convolution and Max Pool layers\n",
    "* Apply a Flatten Layer\n",
    "* Apply 1, 2, or 3 Fully Connected Layers\n",
    "* Apply an Output Layer\n",
    "* Return the output\n",
    "* Apply [TensorFlow's Dropout](https://www.tensorflow.org/api_docs/python/tf/nn/dropout) to one or more layers in the model using `keep_prob`. "
   ]
  },
  {
   "cell_type": "code",
   "execution_count": 7,
   "metadata": {
    "collapsed": false,
    "deletable": true,
    "editable": true
   },
   "outputs": [
    {
     "name": "stdout",
     "output_type": "stream",
     "text": [
      "Neural Network Built!\n"
     ]
    }
   ],
   "source": [
    "def conv_net(x, keep_prob):\n",
    "    \"\"\"\n",
    "    Create a convolutional neural network model\n",
    "    : x: Placeholder tensor that holds image data.\n",
    "    : keep_prob: Placeholder tensor that hold dropout keep probability.\n",
    "    : return: Tensor that represents logits\n",
    "    \"\"\"\n",
    "    # TODO: Apply 1, 2, or 3 Convolution and Max Pool layers\n",
    "    #    Play around with different number of outputs, kernel size and stride\n",
    "    # Function Definition from Above:\n",
    "    #    conv2d_maxpool(x_tensor, conv_num_outputs, conv_ksize, conv_strides, pool_ksize, pool_strides)\n",
    "    net = x\n",
    "    #net = conv2d_maxpool(x, 128, (2, 2), (1, 1), (3, 3), (2, 2))\n",
    "    #net = conv2d_maxpool(net, 64, (2, 2), (1, 1), (3, 3), (2, 2))\n",
    "    net = conv2d_maxpool(net, 32, (3, 3), (1, 1), (2, 2), (2, 2))\n",
    "    net = conv2d_maxpool(net, 64, (3, 3), (1, 1), (2, 2), (2, 2))\n",
    "    net = conv2d_maxpool(net, 128, (3, 3), (1, 1), (2, 2), (2, 2))\n",
    "\n",
    "    # TODO: Apply a Flatten Layer\n",
    "    # Function Definition from Above:\n",
    "    #   flatten(x_tensor)\n",
    "    net = flatten(net)\n",
    "\n",
    "    # TODO: Apply 1, 2, or 3 Fully Connected Layers\n",
    "    #    Play around with different number of outputs\n",
    "    # Function Definition from Above:\n",
    "    #   fully_conn(x_tensor, num_outputs)\n",
    "    #net = fully_conn(net, 100)\n",
    "    net = fully_conn(net, 1024)\n",
    "    net = tf.nn.dropout(net, keep_prob)\n",
    "    net = fully_conn(net, 512) \n",
    "    net = tf.nn.dropout(net, keep_prob)\n",
    "    net = fully_conn(net, 256)\n",
    "    \n",
    "    # TODO: Apply an Output Layer\n",
    "    #    Set this to the number of classes\n",
    "    # Function Definition from Above:\n",
    "    #   output(x_tensor, num_outputs)\n",
    "    net = output(net, 10)\n",
    "    \n",
    "    \n",
    "    # TODO: return output\n",
    "    return net\n",
    "\n",
    "\n",
    "\"\"\"\n",
    "DON'T MODIFY ANYTHING IN THIS CELL THAT IS BELOW THIS LINE\n",
    "\"\"\"\n",
    "\n",
    "##############################\n",
    "## Build the Neural Network ##\n",
    "##############################\n",
    "\n",
    "# Remove previous weights, bias, inputs, etc..\n",
    "tf.reset_default_graph()\n",
    "\n",
    "# Inputs\n",
    "x = neural_net_image_input((32, 32, 3))\n",
    "y = neural_net_label_input(10)\n",
    "keep_prob = neural_net_keep_prob_input()\n",
    "\n",
    "# Model\n",
    "logits = conv_net(x, keep_prob)\n",
    "\n",
    "# Name logits Tensor, so that is can be loaded from disk after training\n",
    "logits = tf.identity(logits, name='logits')\n",
    "\n",
    "# Loss and Optimizer\n",
    "cost = tf.reduce_mean(tf.nn.softmax_cross_entropy_with_logits(logits=logits, labels=y))\n",
    "optimizer = tf.train.AdamOptimizer().minimize(cost)\n",
    "\n",
    "# Accuracy\n",
    "correct_pred = tf.equal(tf.argmax(logits, 1), tf.argmax(y, 1))\n",
    "accuracy = tf.reduce_mean(tf.cast(correct_pred, tf.float32), name='accuracy')\n",
    "\n",
    "tests.test_conv_net(conv_net)"
   ]
  },
  {
   "cell_type": "markdown",
   "metadata": {
    "deletable": true,
    "editable": true
   },
   "source": [
    "## Train the Neural Network\n",
    "### Single Optimization\n",
    "Implement the function `train_neural_network` to do a single optimization.  The optimization should use `optimizer` to optimize in `session` with a `feed_dict` of the following:\n",
    "* `x` for image input\n",
    "* `y` for labels\n",
    "* `keep_prob` for keep probability for dropout\n",
    "\n",
    "This function will be called for each batch, so `tf.global_variables_initializer()` has already been called.\n",
    "\n",
    "Note: Nothing needs to be returned. This function is only optimizing the neural network."
   ]
  },
  {
   "cell_type": "code",
   "execution_count": 8,
   "metadata": {
    "collapsed": false,
    "deletable": true,
    "editable": true
   },
   "outputs": [
    {
     "name": "stdout",
     "output_type": "stream",
     "text": [
      "Tests Passed\n"
     ]
    }
   ],
   "source": [
    "def train_neural_network(session, optimizer, keep_probability, feature_batch, label_batch):\n",
    "    \"\"\"\n",
    "    Optimize the session on a batch of images and labels\n",
    "    : session: Current TensorFlow session\n",
    "    : optimizer: TensorFlow optimizer function\n",
    "    : keep_probability: keep probability\n",
    "    : feature_batch: Batch of Numpy image data\n",
    "    : label_batch: Batch of Numpy label data\n",
    "    \"\"\"\n",
    "    # TODO: Implement Function\n",
    "    session.run(optimizer, feed_dict={x:feature_batch, y:label_batch, keep_prob:keep_probability})\n",
    "\n",
    "\n",
    "\"\"\"\n",
    "DON'T MODIFY ANYTHING IN THIS CELL THAT IS BELOW THIS LINE\n",
    "\"\"\"\n",
    "tests.test_train_nn(train_neural_network)"
   ]
  },
  {
   "cell_type": "markdown",
   "metadata": {
    "deletable": true,
    "editable": true
   },
   "source": [
    "### Show Stats\n",
    "Implement the function `print_stats` to print loss and validation accuracy.  Use the global variables `valid_features` and `valid_labels` to calculate validation accuracy.  Use a keep probability of `1.0` to calculate the loss and validation accuracy."
   ]
  },
  {
   "cell_type": "code",
   "execution_count": 9,
   "metadata": {
    "collapsed": false,
    "deletable": true,
    "editable": true
   },
   "outputs": [],
   "source": [
    "def print_stats(session, feature_batch, label_batch, cost, accuracy):\n",
    "    \"\"\"\n",
    "    Print information about loss and validation accuracy\n",
    "    : session: Current TensorFlow session\n",
    "    : feature_batch: Batch of Numpy image data\n",
    "    : label_batch: Batch of Numpy label data\n",
    "    : cost: TensorFlow cost function\n",
    "    : accuracy: TensorFlow accuracy function\n",
    "    \"\"\"\n",
    "    loss = sess.run(cost, feed_dict={x: feature_batch, y: label_batch, keep_prob: 1.0})\n",
    "    valid_acc = sess.run(accuracy, feed_dict={x: valid_features, y: valid_labels, keep_prob: 1.0})\n",
    "    print('Loss at {}'.format(loss), 'Validation Accuracy at {}'.format(valid_acc))\n"
   ]
  },
  {
   "cell_type": "markdown",
   "metadata": {
    "deletable": true,
    "editable": true
   },
   "source": [
    "### Hyperparameters\n",
    "Tune the following parameters:\n",
    "* Set `epochs` to the number of iterations until the network stops learning or start overfitting\n",
    "* Set `batch_size` to the highest number that your machine has memory for.  Most people set them to common sizes of memory:\n",
    " * 64\n",
    " * 128\n",
    " * 256\n",
    " * ...\n",
    "* Set `keep_probability` to the probability of keeping a node using dropout"
   ]
  },
  {
   "cell_type": "code",
   "execution_count": 10,
   "metadata": {
    "collapsed": true,
    "deletable": true,
    "editable": true
   },
   "outputs": [],
   "source": [
    "# TODO: Tune Parameters\n",
    "epochs = 20\n",
    "batch_size = 64\n",
    "keep_probability = 0.5"
   ]
  },
  {
   "cell_type": "markdown",
   "metadata": {
    "deletable": true,
    "editable": true
   },
   "source": [
    "### Train on a Single CIFAR-10 Batch\n",
    "Instead of training the neural network on all the CIFAR-10 batches of data, let's use a single batch. This should save time while you iterate on the model to get a better accuracy.  Once the final validation accuracy is 50% or greater, run the model on all the data in the next section."
   ]
  },
  {
   "cell_type": "code",
   "execution_count": 11,
   "metadata": {
    "collapsed": false,
    "deletable": true,
    "editable": true
   },
   "outputs": [
    {
     "name": "stdout",
     "output_type": "stream",
     "text": [
      "Checking the Training on a Single Batch...\n",
      "Epoch  1, CIFAR-10 Batch 1:  Loss at 2.094357490539551 Validation Accuracy at 0.3061999976634979\n",
      "Epoch  2, CIFAR-10 Batch 1:  Loss at 1.8937221765518188 Validation Accuracy at 0.36239999532699585\n",
      "Epoch  3, CIFAR-10 Batch 1:  Loss at 1.6484354734420776 Validation Accuracy at 0.4553999602794647\n",
      "Epoch  4, CIFAR-10 Batch 1:  Loss at 1.4852771759033203 Validation Accuracy at 0.4819999635219574\n",
      "Epoch  5, CIFAR-10 Batch 1:  Loss at 1.177415132522583 Validation Accuracy at 0.5073999762535095\n",
      "Epoch  6, CIFAR-10 Batch 1:  Loss at 1.048844337463379 Validation Accuracy at 0.5381999611854553\n",
      "Epoch  7, CIFAR-10 Batch 1:  Loss at 0.8861217498779297 Validation Accuracy at 0.5611999034881592\n",
      "Epoch  8, CIFAR-10 Batch 1:  Loss at 0.809564471244812 Validation Accuracy at 0.5799998641014099\n",
      "Epoch  9, CIFAR-10 Batch 1:  Loss at 0.6816085577011108 Validation Accuracy at 0.5739999413490295\n",
      "Epoch 10, CIFAR-10 Batch 1:  Loss at 0.5881693959236145 Validation Accuracy at 0.5775999426841736\n",
      "Epoch 11, CIFAR-10 Batch 1:  Loss at 0.40187928080558777 Validation Accuracy at 0.5843998789787292\n",
      "Epoch 12, CIFAR-10 Batch 1:  Loss at 0.3085116446018219 Validation Accuracy at 0.5899999141693115\n",
      "Epoch 13, CIFAR-10 Batch 1:  Loss at 0.17409883439540863 Validation Accuracy at 0.5993999242782593\n",
      "Epoch 14, CIFAR-10 Batch 1:  Loss at 0.1593276709318161 Validation Accuracy at 0.5905998945236206\n",
      "Epoch 15, CIFAR-10 Batch 1:  Loss at 0.1400768756866455 Validation Accuracy at 0.5857999324798584\n",
      "Epoch 16, CIFAR-10 Batch 1:  Loss at 0.0617842972278595 Validation Accuracy at 0.609799861907959\n",
      "Epoch 17, CIFAR-10 Batch 1:  Loss at 0.06498148292303085 Validation Accuracy at 0.605199933052063\n",
      "Epoch 18, CIFAR-10 Batch 1:  Loss at 0.047449272125959396 Validation Accuracy at 0.6045999526977539\n",
      "Epoch 19, CIFAR-10 Batch 1:  Loss at 0.023181434720754623 Validation Accuracy at 0.6107999086380005\n",
      "Epoch 20, CIFAR-10 Batch 1:  Loss at 0.016341309994459152 Validation Accuracy at 0.6245999336242676\n"
     ]
    }
   ],
   "source": [
    "\"\"\"\n",
    "DON'T MODIFY ANYTHING IN THIS CELL\n",
    "\"\"\"\n",
    "print('Checking the Training on a Single Batch...')\n",
    "with tf.Session() as sess:\n",
    "    # Initializing the variables\n",
    "    sess.run(tf.global_variables_initializer())\n",
    "    \n",
    "    # Training cycle\n",
    "    for epoch in range(epochs):\n",
    "        batch_i = 1\n",
    "        for batch_features, batch_labels in helper.load_preprocess_training_batch(batch_i, batch_size):\n",
    "            train_neural_network(sess, optimizer, keep_probability, batch_features, batch_labels)\n",
    "        print('Epoch {:>2}, CIFAR-10 Batch {}:  '.format(epoch + 1, batch_i), end='')\n",
    "        print_stats(sess, batch_features, batch_labels, cost, accuracy)"
   ]
  },
  {
   "cell_type": "markdown",
   "metadata": {
    "deletable": true,
    "editable": true
   },
   "source": [
    "### Fully Train the Model\n",
    "Now that you got a good accuracy with a single CIFAR-10 batch, try it with all five batches."
   ]
  },
  {
   "cell_type": "code",
   "execution_count": 12,
   "metadata": {
    "collapsed": false,
    "deletable": true,
    "editable": true
   },
   "outputs": [
    {
     "name": "stdout",
     "output_type": "stream",
     "text": [
      "Training...\n",
      "Epoch  1, CIFAR-10 Batch 1:  Loss at 1.9747564792633057 Validation Accuracy at 0.31919997930526733\n",
      "Epoch  1, CIFAR-10 Batch 2:  Loss at 1.5830507278442383 Validation Accuracy at 0.3921999931335449\n",
      "Epoch  1, CIFAR-10 Batch 3:  Loss at 1.2970631122589111 Validation Accuracy at 0.4861999750137329\n",
      "Epoch  1, CIFAR-10 Batch 4:  Loss at 1.3115938901901245 Validation Accuracy at 0.5033999681472778\n",
      "Epoch  1, CIFAR-10 Batch 5:  Loss at 1.2845009565353394 Validation Accuracy at 0.5561999082565308\n",
      "Epoch  2, CIFAR-10 Batch 1:  Loss at 1.20012366771698 Validation Accuracy at 0.5483999252319336\n",
      "Epoch  2, CIFAR-10 Batch 2:  Loss at 1.0311152935028076 Validation Accuracy at 0.5859999060630798\n",
      "Epoch  2, CIFAR-10 Batch 3:  Loss at 0.8262673020362854 Validation Accuracy at 0.5885998606681824\n",
      "Epoch  2, CIFAR-10 Batch 4:  Loss at 0.9358664751052856 Validation Accuracy at 0.5981998443603516\n",
      "Epoch  2, CIFAR-10 Batch 5:  Loss at 0.9199750423431396 Validation Accuracy at 0.6259998679161072\n",
      "Epoch  3, CIFAR-10 Batch 1:  Loss at 0.9441739916801453 Validation Accuracy at 0.6453999280929565\n",
      "Epoch  3, CIFAR-10 Batch 2:  Loss at 0.798845112323761 Validation Accuracy at 0.6529999375343323\n",
      "Epoch  3, CIFAR-10 Batch 3:  Loss at 0.5973778963088989 Validation Accuracy at 0.6515998840332031\n",
      "Epoch  3, CIFAR-10 Batch 4:  Loss at 0.6661215424537659 Validation Accuracy at 0.6701998710632324\n",
      "Epoch  3, CIFAR-10 Batch 5:  Loss at 0.6662953495979309 Validation Accuracy at 0.6831998825073242\n",
      "Epoch  4, CIFAR-10 Batch 1:  Loss at 0.8086446523666382 Validation Accuracy at 0.675399899482727\n",
      "Epoch  4, CIFAR-10 Batch 2:  Loss at 0.7504646182060242 Validation Accuracy at 0.6809999346733093\n",
      "Epoch  4, CIFAR-10 Batch 3:  Loss at 0.46706146001815796 Validation Accuracy at 0.6897997856140137\n",
      "Epoch  4, CIFAR-10 Batch 4:  Loss at 0.5630310773849487 Validation Accuracy at 0.6929998993873596\n",
      "Epoch  4, CIFAR-10 Batch 5:  Loss at 0.49092158675193787 Validation Accuracy at 0.684199869632721\n",
      "Epoch  5, CIFAR-10 Batch 1:  Loss at 0.6255832314491272 Validation Accuracy at 0.7005998492240906\n",
      "Epoch  5, CIFAR-10 Batch 2:  Loss at 0.5344007611274719 Validation Accuracy at 0.7081998586654663\n",
      "Epoch  5, CIFAR-10 Batch 3:  Loss at 0.32213035225868225 Validation Accuracy at 0.6983998417854309\n",
      "Epoch  5, CIFAR-10 Batch 4:  Loss at 0.4967210590839386 Validation Accuracy at 0.7149998545646667\n",
      "Epoch  5, CIFAR-10 Batch 5:  Loss at 0.5148323178291321 Validation Accuracy at 0.7087998986244202\n",
      "Epoch  6, CIFAR-10 Batch 1:  Loss at 0.5976551175117493 Validation Accuracy at 0.7035999298095703\n",
      "Epoch  6, CIFAR-10 Batch 2:  Loss at 0.4055904746055603 Validation Accuracy at 0.7161998748779297\n",
      "Epoch  6, CIFAR-10 Batch 3:  Loss at 0.29682934284210205 Validation Accuracy at 0.7135998606681824\n",
      "Epoch  6, CIFAR-10 Batch 4:  Loss at 0.38028061389923096 Validation Accuracy at 0.7217998504638672\n",
      "Epoch  6, CIFAR-10 Batch 5:  Loss at 0.3571341037750244 Validation Accuracy at 0.7161998748779297\n",
      "Epoch  7, CIFAR-10 Batch 1:  Loss at 0.49396812915802 Validation Accuracy at 0.6911998391151428\n",
      "Epoch  7, CIFAR-10 Batch 2:  Loss at 0.3448057770729065 Validation Accuracy at 0.7279998064041138\n",
      "Epoch  7, CIFAR-10 Batch 3:  Loss at 0.18657654523849487 Validation Accuracy at 0.7283998131752014\n",
      "Epoch  7, CIFAR-10 Batch 4:  Loss at 0.2816922962665558 Validation Accuracy at 0.7175998687744141\n",
      "Epoch  7, CIFAR-10 Batch 5:  Loss at 0.338562548160553 Validation Accuracy at 0.7079998850822449\n",
      "Epoch  8, CIFAR-10 Batch 1:  Loss at 0.4050947427749634 Validation Accuracy at 0.6901997923851013\n",
      "Epoch  8, CIFAR-10 Batch 2:  Loss at 0.31505677103996277 Validation Accuracy at 0.7241998314857483\n",
      "Epoch  8, CIFAR-10 Batch 3:  Loss at 0.14584538340568542 Validation Accuracy at 0.7267998456954956\n",
      "Epoch  8, CIFAR-10 Batch 4:  Loss at 0.18625959753990173 Validation Accuracy at 0.7147998809814453\n",
      "Epoch  8, CIFAR-10 Batch 5:  Loss at 0.23720581829547882 Validation Accuracy at 0.7095998525619507\n",
      "Epoch  9, CIFAR-10 Batch 1:  Loss at 0.29057037830352783 Validation Accuracy at 0.7173998355865479\n",
      "Epoch  9, CIFAR-10 Batch 2:  Loss at 0.2583930790424347 Validation Accuracy at 0.726999819278717\n",
      "Epoch  9, CIFAR-10 Batch 3:  Loss at 0.1871286779642105 Validation Accuracy at 0.7287998199462891\n",
      "Epoch  9, CIFAR-10 Batch 4:  Loss at 0.20479446649551392 Validation Accuracy at 0.7215998768806458\n",
      "Epoch  9, CIFAR-10 Batch 5:  Loss at 0.16539621353149414 Validation Accuracy at 0.7193998694419861\n",
      "Epoch 10, CIFAR-10 Batch 1:  Loss at 0.23643015325069427 Validation Accuracy at 0.7189998626708984\n",
      "Epoch 10, CIFAR-10 Batch 2:  Loss at 0.20137269794940948 Validation Accuracy at 0.7287998795509338\n",
      "Epoch 10, CIFAR-10 Batch 3:  Loss at 0.09057803452014923 Validation Accuracy at 0.7261998057365417\n",
      "Epoch 10, CIFAR-10 Batch 4:  Loss at 0.24164851009845734 Validation Accuracy at 0.7307998538017273\n",
      "Epoch 10, CIFAR-10 Batch 5:  Loss at 0.1147027313709259 Validation Accuracy at 0.7291998267173767\n",
      "Epoch 11, CIFAR-10 Batch 1:  Loss at 0.13750551640987396 Validation Accuracy at 0.7255998253822327\n",
      "Epoch 11, CIFAR-10 Batch 2:  Loss at 0.16990186274051666 Validation Accuracy at 0.7349998354911804\n",
      "Epoch 11, CIFAR-10 Batch 3:  Loss at 0.088177390396595 Validation Accuracy at 0.7365998029708862\n",
      "Epoch 11, CIFAR-10 Batch 4:  Loss at 0.06448784470558167 Validation Accuracy at 0.7421998977661133\n",
      "Epoch 11, CIFAR-10 Batch 5:  Loss at 0.08558154851198196 Validation Accuracy at 0.7255998849868774\n",
      "Epoch 12, CIFAR-10 Batch 1:  Loss at 0.17270995676517487 Validation Accuracy at 0.7035998702049255\n",
      "Epoch 12, CIFAR-10 Batch 2:  Loss at 0.1793731451034546 Validation Accuracy at 0.7375998497009277\n",
      "Epoch 12, CIFAR-10 Batch 3:  Loss at 0.05971710383892059 Validation Accuracy at 0.7249998450279236\n",
      "Epoch 12, CIFAR-10 Batch 4:  Loss at 0.07425720989704132 Validation Accuracy at 0.7231999635696411\n",
      "Epoch 12, CIFAR-10 Batch 5:  Loss at 0.10279788821935654 Validation Accuracy at 0.7249997854232788\n",
      "Epoch 13, CIFAR-10 Batch 1:  Loss at 0.11475923657417297 Validation Accuracy at 0.7339998483657837\n",
      "Epoch 13, CIFAR-10 Batch 2:  Loss at 0.07384883612394333 Validation Accuracy at 0.7339998483657837\n",
      "Epoch 13, CIFAR-10 Batch 3:  Loss at 0.03588654100894928 Validation Accuracy at 0.7293998003005981\n",
      "Epoch 13, CIFAR-10 Batch 4:  Loss at 0.0779774859547615 Validation Accuracy at 0.7255998849868774\n",
      "Epoch 13, CIFAR-10 Batch 5:  Loss at 0.0862932801246643 Validation Accuracy at 0.7391997575759888\n",
      "Epoch 14, CIFAR-10 Batch 1:  Loss at 0.1111360639333725 Validation Accuracy at 0.7205997705459595\n",
      "Epoch 14, CIFAR-10 Batch 2:  Loss at 0.10808756202459335 Validation Accuracy at 0.7303998470306396\n",
      "Epoch 14, CIFAR-10 Batch 3:  Loss at 0.0417090505361557 Validation Accuracy at 0.7357999086380005\n",
      "Epoch 14, CIFAR-10 Batch 4:  Loss at 0.06570900231599808 Validation Accuracy at 0.7425998449325562\n",
      "Epoch 14, CIFAR-10 Batch 5:  Loss at 0.045998863875865936 Validation Accuracy at 0.7271997928619385\n",
      "Epoch 15, CIFAR-10 Batch 1:  Loss at 0.07442310452461243 Validation Accuracy at 0.7319998741149902\n",
      "Epoch 15, CIFAR-10 Batch 2:  Loss at 0.09314106404781342 Validation Accuracy at 0.7341998219490051\n",
      "Epoch 15, CIFAR-10 Batch 3:  Loss at 0.06377829611301422 Validation Accuracy at 0.7357997894287109\n",
      "Epoch 15, CIFAR-10 Batch 4:  Loss at 0.09276412427425385 Validation Accuracy at 0.7283998131752014\n",
      "Epoch 15, CIFAR-10 Batch 5:  Loss at 0.024506226181983948 Validation Accuracy at 0.731799840927124\n",
      "Epoch 16, CIFAR-10 Batch 1:  Loss at 0.049326736479997635 Validation Accuracy at 0.7217997908592224\n",
      "Epoch 16, CIFAR-10 Batch 2:  Loss at 0.06562252342700958 Validation Accuracy at 0.7331998348236084\n",
      "Epoch 16, CIFAR-10 Batch 3:  Loss at 0.02577277459204197 Validation Accuracy at 0.7277998328208923\n",
      "Epoch 16, CIFAR-10 Batch 4:  Loss at 0.036568015813827515 Validation Accuracy at 0.736599862575531\n",
      "Epoch 16, CIFAR-10 Batch 5:  Loss at 0.04560583084821701 Validation Accuracy at 0.7241998314857483\n",
      "Epoch 17, CIFAR-10 Batch 1:  Loss at 0.04224118962883949 Validation Accuracy at 0.7337998747825623\n",
      "Epoch 17, CIFAR-10 Batch 2:  Loss at 0.05864454805850983 Validation Accuracy at 0.730199933052063\n",
      "Epoch 17, CIFAR-10 Batch 3:  Loss at 0.05216535925865173 Validation Accuracy at 0.7221998572349548\n",
      "Epoch 17, CIFAR-10 Batch 4:  Loss at 0.04669530689716339 Validation Accuracy at 0.7329998016357422\n",
      "Epoch 17, CIFAR-10 Batch 5:  Loss at 0.06023562327027321 Validation Accuracy at 0.7417998909950256\n",
      "Epoch 18, CIFAR-10 Batch 1:  Loss at 0.05872849002480507 Validation Accuracy at 0.7301998138427734\n",
      "Epoch 18, CIFAR-10 Batch 2:  Loss at 0.03597854822874069 Validation Accuracy at 0.7367998361587524\n",
      "Epoch 18, CIFAR-10 Batch 3:  Loss at 0.052009742707014084 Validation Accuracy at 0.7245999574661255\n",
      "Epoch 18, CIFAR-10 Batch 4:  Loss at 0.029176879674196243 Validation Accuracy at 0.7357997894287109\n",
      "Epoch 18, CIFAR-10 Batch 5:  Loss at 0.07158897072076797 Validation Accuracy at 0.7177998423576355\n",
      "Epoch 19, CIFAR-10 Batch 1:  Loss at 0.031981173902750015 Validation Accuracy at 0.72819983959198\n",
      "Epoch 19, CIFAR-10 Batch 2:  Loss at 0.03057483211159706 Validation Accuracy at 0.7425998449325562\n",
      "Epoch 19, CIFAR-10 Batch 3:  Loss at 0.04001714289188385 Validation Accuracy at 0.7381998300552368\n",
      "Epoch 19, CIFAR-10 Batch 4:  Loss at 0.019047874957323074 Validation Accuracy at 0.7349998950958252\n",
      "Epoch 19, CIFAR-10 Batch 5:  Loss at 0.027220088988542557 Validation Accuracy at 0.7227998375892639\n",
      "Epoch 20, CIFAR-10 Batch 1:  Loss at 0.027061304077506065 Validation Accuracy at 0.7267998456954956\n",
      "Epoch 20, CIFAR-10 Batch 2:  Loss at 0.050454720854759216 Validation Accuracy at 0.7333998084068298\n",
      "Epoch 20, CIFAR-10 Batch 3:  Loss at 0.014745484106242657 Validation Accuracy at 0.7343998551368713\n",
      "Epoch 20, CIFAR-10 Batch 4:  Loss at 0.024415092542767525 Validation Accuracy at 0.7415997982025146\n",
      "Epoch 20, CIFAR-10 Batch 5:  Loss at 0.021107694134116173 Validation Accuracy at 0.721599817276001\n"
     ]
    }
   ],
   "source": [
    "\"\"\"\n",
    "DON'T MODIFY ANYTHING IN THIS CELL\n",
    "\"\"\"\n",
    "save_model_path = './image_classification'\n",
    "\n",
    "print('Training...')\n",
    "with tf.Session() as sess:\n",
    "    # Initializing the variables\n",
    "    sess.run(tf.global_variables_initializer())\n",
    "    \n",
    "    # Training cycle\n",
    "    for epoch in range(epochs):\n",
    "        # Loop over all batches\n",
    "        n_batches = 5\n",
    "        for batch_i in range(1, n_batches + 1):\n",
    "            for batch_features, batch_labels in helper.load_preprocess_training_batch(batch_i, batch_size):\n",
    "                train_neural_network(sess, optimizer, keep_probability, batch_features, batch_labels)\n",
    "            print('Epoch {:>2}, CIFAR-10 Batch {}:  '.format(epoch + 1, batch_i), end='')\n",
    "            print_stats(sess, batch_features, batch_labels, cost, accuracy)\n",
    "            \n",
    "    # Save Model\n",
    "    saver = tf.train.Saver()\n",
    "    save_path = saver.save(sess, save_model_path)"
   ]
  },
  {
   "cell_type": "markdown",
   "metadata": {
    "deletable": true,
    "editable": true
   },
   "source": [
    "# Checkpoint\n",
    "The model has been saved to disk.\n",
    "## Test Model\n",
    "Test your model against the test dataset.  This will be your final accuracy. You should have an accuracy greater than 50%. If you don't, keep tweaking the model architecture and parameters."
   ]
  },
  {
   "cell_type": "code",
   "execution_count": 13,
   "metadata": {
    "collapsed": false,
    "deletable": true,
    "editable": true
   },
   "outputs": [
    {
     "name": "stdout",
     "output_type": "stream",
     "text": [
      "Testing Accuracy: 0.7195461783439491\n",
      "\n"
     ]
    },
    {
     "data": {
      "image/png": "[encoded data removed]",
      "text/plain": [
       "<matplotlib.figure.Figure at 0x7fc5f3fd7fd0>"
      ]
     },
     "metadata": {
      "image/png": {
       "height": 319,
       "width": 349
      }
     },
     "output_type": "display_data"
    }
   ],
   "source": [
    "\"\"\"\n",
    "DON'T MODIFY ANYTHING IN THIS CELL\n",
    "\"\"\"\n",
    "%matplotlib inline\n",
    "%config InlineBackend.figure_format = 'retina'\n",
    "\n",
    "import tensorflow as tf\n",
    "import pickle\n",
    "import helper\n",
    "import random\n",
    "\n",
    "# Set batch size if not already set\n",
    "try:\n",
    "    if batch_size:\n",
    "        pass\n",
    "except NameError:\n",
    "    batch_size = 64\n",
    "\n",
    "save_model_path = './image_classification'\n",
    "n_samples = 4\n",
    "top_n_predictions = 3\n",
    "\n",
    "def test_model():\n",
    "    \"\"\"\n",
    "    Test the saved model against the test dataset\n",
    "    \"\"\"\n",
    "\n",
    "    test_features, test_labels = pickle.load(open('preprocess_training.p', mode='rb'))\n",
    "    loaded_graph = tf.Graph()\n",
    "\n",
    "    with tf.Session(graph=loaded_graph) as sess:\n",
    "        # Load model\n",
    "        loader = tf.train.import_meta_graph(save_model_path + '.meta')\n",
    "        loader.restore(sess, save_model_path)\n",
    "\n",
    "        # Get Tensors from loaded model\n",
    "        loaded_x = loaded_graph.get_tensor_by_name('x:0')\n",
    "        loaded_y = loaded_graph.get_tensor_by_name('y:0')\n",
    "        loaded_keep_prob = loaded_graph.get_tensor_by_name('keep_prob:0')\n",
    "        loaded_logits = loaded_graph.get_tensor_by_name('logits:0')\n",
    "        loaded_acc = loaded_graph.get_tensor_by_name('accuracy:0')\n",
    "        \n",
    "        # Get accuracy in batches for memory limitations\n",
    "        test_batch_acc_total = 0\n",
    "        test_batch_count = 0\n",
    "        \n",
    "        for train_feature_batch, train_label_batch in helper.batch_features_labels(test_features, test_labels, batch_size):\n",
    "            test_batch_acc_total += sess.run(\n",
    "                loaded_acc,\n",
    "                feed_dict={loaded_x: train_feature_batch, loaded_y: train_label_batch, loaded_keep_prob: 1.0})\n",
    "            test_batch_count += 1\n",
    "\n",
    "        print('Testing Accuracy: {}\\n'.format(test_batch_acc_total/test_batch_count))\n",
    "\n",
    "        # Print Random Samples\n",
    "        random_test_features, random_test_labels = tuple(zip(*random.sample(list(zip(test_features, test_labels)), n_samples)))\n",
    "        random_test_predictions = sess.run(\n",
    "            tf.nn.top_k(tf.nn.softmax(loaded_logits), top_n_predictions),\n",
    "            feed_dict={loaded_x: random_test_features, loaded_y: random_test_labels, loaded_keep_prob: 1.0})\n",
    "        helper.display_image_predictions(random_test_features, random_test_labels, random_test_predictions)\n",
    "\n",
    "\n",
    "test_model()"
   ]
  },
  {
   "cell_type": "markdown",
   "metadata": {
    "deletable": true,
    "editable": true
   },
   "source": [
    "## Why 50-80% Accuracy?\n",
    "You might be wondering why you can't get an accuracy any higher. First things first, 50% isn't bad for a simple CNN.  Pure guessing would get you 10% accuracy. However, you might notice people are getting scores [well above 80%](http://rodrigob.github.io/are_we_there_yet/build/classification_datasets_results.html#43494641522d3130).  That's because we haven't taught you all there is to know about neural networks. We still need to cover a few more techniques.\n",
    "## Submitting This Project\n",
    "When submitting this project, make sure to run all the cells before saving the notebook.  Save the notebook file as \"dlnd_image_classification.ipynb\" and save it as a HTML file under \"File\" -> \"Download as\".  Include the \"helper.py\" and \"problem_unittests.py\" files in your submission."
   ]
  }
 ],
 "metadata": {
  "kernelspec": {
   "display_name": "Python 3",
   "language": "python",
   "name": "python3"
  },
  "language_info": {
   "codemirror_mode": {
    "name": "ipython",
    "version": 3
   },
   "file_extension": ".py",
   "mimetype": "text/x-python",
   "name": "python",
   "nbconvert_exporter": "python",
   "pygments_lexer": "ipython3",
   "version": "3.5.2"
  },
  "widgets": {
   "state": {},
   "version": "1.1.2"
  }
 },
 "nbformat": 4,
 "nbformat_minor": 0
}
